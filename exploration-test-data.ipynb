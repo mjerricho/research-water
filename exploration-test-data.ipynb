{
 "cells": [
  {
   "cell_type": "markdown",
   "metadata": {},
   "source": [
    "# Loading data"
   ]
  },
  {
   "cell_type": "code",
   "execution_count": null,
   "metadata": {},
   "outputs": [],
   "source": [
    "from scipy.io import loadmat\n",
    "import pandas as pd"
   ]
  },
  {
   "cell_type": "code",
   "execution_count": 116,
   "metadata": {},
   "outputs": [],
   "source": [
    "water = loadmat('OrderParam_Run06_swm4ndp_T30.0_1709121803.mat')"
   ]
  },
  {
   "cell_type": "code",
   "execution_count": 117,
   "metadata": {},
   "outputs": [
    {
     "data": {
      "text/plain": [
       "dict_keys(['__header__', '__version__', '__globals__', 'q_all', 'r', 'Q6_all', 'LSI_all', 'Sk_all', 'g_r'])"
      ]
     },
     "execution_count": 117,
     "metadata": {},
     "output_type": "execute_result"
    }
   ],
   "source": [
    "water.keys()"
   ]
  },
  {
   "cell_type": "code",
   "execution_count": 121,
   "metadata": {},
   "outputs": [
    {
     "name": "stdout",
     "output_type": "stream",
     "text": [
      "512\n",
      "240\n",
      "512\n",
      "512\n",
      "512\n",
      "240\n"
     ]
    }
   ],
   "source": [
    "print(len(water['q_all'][0]))\n",
    "print(len(water['r'][0]))\n",
    "print(len(water['Q6_all'][0]))\n",
    "print(len(water['LSI_all'][0]))\n",
    "print(len(water['Sk_all'][0]))\n",
    "print(len(water['g_r'][0]))"
   ]
  },
  {
   "cell_type": "markdown",
   "metadata": {},
   "source": [
    "r and g_r has less data. I am only using q_all, Q6_all, LSI_all, Sk_all."
   ]
  },
  {
   "cell_type": "code",
   "execution_count": 157,
   "metadata": {},
   "outputs": [],
   "source": [
    "data = {'q_all': water['q_all'][0], \n",
    "        'Q6_all': water['Q6_all'][0],\n",
    "        'LSI_all': water['LSI_all'][0],\n",
    "        'Sk_all': water['Sk_all'][0]\n",
    "        }"
   ]
  },
  {
   "cell_type": "code",
   "execution_count": 159,
   "metadata": {},
   "outputs": [],
   "source": [
    "df_try = pd.DataFrame(data = data)"
   ]
  },
  {
   "cell_type": "code",
   "execution_count": 160,
   "metadata": {},
   "outputs": [
    {
     "data": {
      "text/html": [
       "<div>\n",
       "<style scoped>\n",
       "    .dataframe tbody tr th:only-of-type {\n",
       "        vertical-align: middle;\n",
       "    }\n",
       "\n",
       "    .dataframe tbody tr th {\n",
       "        vertical-align: top;\n",
       "    }\n",
       "\n",
       "    .dataframe thead th {\n",
       "        text-align: right;\n",
       "    }\n",
       "</style>\n",
       "<table border=\"1\" class=\"dataframe\">\n",
       "  <thead>\n",
       "    <tr style=\"text-align: right;\">\n",
       "      <th></th>\n",
       "      <th>q_all</th>\n",
       "      <th>Q6_all</th>\n",
       "      <th>LSI_all</th>\n",
       "      <th>Sk_all</th>\n",
       "    </tr>\n",
       "  </thead>\n",
       "  <tbody>\n",
       "    <tr>\n",
       "      <th>0</th>\n",
       "      <td>0.586487</td>\n",
       "      <td>0.376439</td>\n",
       "      <td>0.000086</td>\n",
       "      <td>0.998859</td>\n",
       "    </tr>\n",
       "    <tr>\n",
       "      <th>1</th>\n",
       "      <td>0.614793</td>\n",
       "      <td>0.184714</td>\n",
       "      <td>0.000124</td>\n",
       "      <td>0.999004</td>\n",
       "    </tr>\n",
       "    <tr>\n",
       "      <th>2</th>\n",
       "      <td>0.693650</td>\n",
       "      <td>0.271328</td>\n",
       "      <td>0.001445</td>\n",
       "      <td>0.999722</td>\n",
       "    </tr>\n",
       "    <tr>\n",
       "      <th>3</th>\n",
       "      <td>0.627313</td>\n",
       "      <td>0.351191</td>\n",
       "      <td>0.000239</td>\n",
       "      <td>0.999468</td>\n",
       "    </tr>\n",
       "    <tr>\n",
       "      <th>4</th>\n",
       "      <td>0.428856</td>\n",
       "      <td>0.217197</td>\n",
       "      <td>0.000271</td>\n",
       "      <td>0.999823</td>\n",
       "    </tr>\n",
       "  </tbody>\n",
       "</table>\n",
       "</div>"
      ],
      "text/plain": [
       "      q_all    Q6_all   LSI_all    Sk_all\n",
       "0  0.586487  0.376439  0.000086  0.998859\n",
       "1  0.614793  0.184714  0.000124  0.999004\n",
       "2  0.693650  0.271328  0.001445  0.999722\n",
       "3  0.627313  0.351191  0.000239  0.999468\n",
       "4  0.428856  0.217197  0.000271  0.999823"
      ]
     },
     "execution_count": 160,
     "metadata": {},
     "output_type": "execute_result"
    }
   ],
   "source": [
    "df_try.head()"
   ]
  },
  {
   "cell_type": "markdown",
   "metadata": {},
   "source": [
    "# Processsing Data"
   ]
  },
  {
   "cell_type": "code",
   "execution_count": 177,
   "metadata": {},
   "outputs": [],
   "source": [
    "from sklearn import preprocessing, cluster, metrics\n",
    "from sklearn.preprocessing import scale\n",
    "from sklearn.decomposition import PCA\n",
    "import matplotlib.pyplot as plt\n",
    "import numpy as np"
   ]
  },
  {
   "cell_type": "code",
   "execution_count": 178,
   "metadata": {},
   "outputs": [],
   "source": [
    "# one way to normalize\n",
    "x = df_try.values\n",
    "min_max_scaler = preprocessing.MinMaxScaler()\n",
    "x_scaled= min_max_scaler.fit_transform(x)\n",
    "df_scaled = pd.DataFrame(x_scaled, columns = data.keys())"
   ]
  },
  {
   "cell_type": "code",
   "execution_count": 179,
   "metadata": {},
   "outputs": [
    {
     "data": {
      "text/html": [
       "<div>\n",
       "<style scoped>\n",
       "    .dataframe tbody tr th:only-of-type {\n",
       "        vertical-align: middle;\n",
       "    }\n",
       "\n",
       "    .dataframe tbody tr th {\n",
       "        vertical-align: top;\n",
       "    }\n",
       "\n",
       "    .dataframe thead th {\n",
       "        text-align: right;\n",
       "    }\n",
       "</style>\n",
       "<table border=\"1\" class=\"dataframe\">\n",
       "  <thead>\n",
       "    <tr style=\"text-align: right;\">\n",
       "      <th></th>\n",
       "      <th>q_all</th>\n",
       "      <th>Q6_all</th>\n",
       "      <th>LSI_all</th>\n",
       "      <th>Sk_all</th>\n",
       "    </tr>\n",
       "  </thead>\n",
       "  <tbody>\n",
       "    <tr>\n",
       "      <th>0</th>\n",
       "      <td>0.620949</td>\n",
       "      <td>0.955856</td>\n",
       "      <td>0.028203</td>\n",
       "      <td>0.829094</td>\n",
       "    </tr>\n",
       "    <tr>\n",
       "      <th>1</th>\n",
       "      <td>0.650046</td>\n",
       "      <td>0.190639</td>\n",
       "      <td>0.044979</td>\n",
       "      <td>0.850912</td>\n",
       "    </tr>\n",
       "    <tr>\n",
       "      <th>2</th>\n",
       "      <td>0.731106</td>\n",
       "      <td>0.536335</td>\n",
       "      <td>0.624073</td>\n",
       "      <td>0.959202</td>\n",
       "    </tr>\n",
       "    <tr>\n",
       "      <th>3</th>\n",
       "      <td>0.662916</td>\n",
       "      <td>0.855085</td>\n",
       "      <td>0.095337</td>\n",
       "      <td>0.920882</td>\n",
       "    </tr>\n",
       "    <tr>\n",
       "      <th>4</th>\n",
       "      <td>0.458915</td>\n",
       "      <td>0.320287</td>\n",
       "      <td>0.109508</td>\n",
       "      <td>0.974402</td>\n",
       "    </tr>\n",
       "  </tbody>\n",
       "</table>\n",
       "</div>"
      ],
      "text/plain": [
       "      q_all    Q6_all   LSI_all    Sk_all\n",
       "0  0.620949  0.955856  0.028203  0.829094\n",
       "1  0.650046  0.190639  0.044979  0.850912\n",
       "2  0.731106  0.536335  0.624073  0.959202\n",
       "3  0.662916  0.855085  0.095337  0.920882\n",
       "4  0.458915  0.320287  0.109508  0.974402"
      ]
     },
     "execution_count": 179,
     "metadata": {},
     "output_type": "execute_result"
    }
   ],
   "source": [
    "df_scaled.head()"
   ]
  },
  {
   "cell_type": "code",
   "execution_count": 180,
   "metadata": {},
   "outputs": [],
   "source": [
    "# another way to normalize\n",
    "df_scaled2 = scale(df_try)"
   ]
  },
  {
   "cell_type": "code",
   "execution_count": 183,
   "metadata": {},
   "outputs": [
    {
     "data": {
      "text/plain": [
       "array([-0.15914764,  2.41780246, -0.80589036, -0.20111769])"
      ]
     },
     "execution_count": 183,
     "metadata": {},
     "output_type": "execute_result"
    }
   ],
   "source": [
    "df_scaled2[0]"
   ]
  },
  {
   "cell_type": "markdown",
   "metadata": {},
   "source": [
    "## PCA "
   ]
  },
  {
   "cell_type": "code",
   "execution_count": 168,
   "metadata": {},
   "outputs": [
    {
     "data": {
      "text/plain": [
       "array([[0.62094923, 0.95585557, 0.0282031 , 0.82909437],\n",
       "       [0.65004633, 0.19063877, 0.04497922, 0.85091217],\n",
       "       [0.73110595, 0.53633488, 0.62407251, 0.95920161],\n",
       "       ...,\n",
       "       [0.84299176, 0.49193589, 0.06551929, 0.76289765],\n",
       "       [0.7207142 , 0.1376308 , 0.05974383, 0.91582906],\n",
       "       [0.81747075, 0.34787432, 0.00307978, 0.85780998]])"
      ]
     },
     "execution_count": 168,
     "metadata": {},
     "output_type": "execute_result"
    }
   ],
   "source": [
    "df_scaled.values"
   ]
  },
  {
   "cell_type": "code",
   "execution_count": 170,
   "metadata": {},
   "outputs": [
    {
     "name": "stdout",
     "output_type": "stream",
     "text": [
      "(512, 2)\n",
      "[[ 0.32554586  0.32057656]\n",
      " [-0.25537562 -0.17729259]\n",
      " [ 0.17123931 -0.12704086]\n",
      " ...\n",
      " [ 0.0728137  -0.11008031]\n",
      " [-0.24162114 -0.28158036]\n",
      " [-0.04321076 -0.19942317]]\n"
     ]
    }
   ],
   "source": [
    "# Create a Randomized PCA model that takes two components\n",
    "randomized_pca = PCA(n_components=2, svd_solver='randomized')\n",
    "\n",
    "# Fit and transform the data to the model\n",
    "reduced_data_rpca = randomized_pca.fit_transform(df_scaled)\n",
    "\n",
    "# Inspect the shape\n",
    "print(reduced_data_rpca.shape)\n",
    "\n",
    "# Print out the data\n",
    "print(reduced_data_rpca)"
   ]
  },
  {
   "cell_type": "code",
   "execution_count": 171,
   "metadata": {},
   "outputs": [
    {
     "name": "stdout",
     "output_type": "stream",
     "text": [
      "(512, 2)\n",
      "[[ 0.32554586  0.32057656]\n",
      " [-0.25537562 -0.17729259]\n",
      " [ 0.17123931 -0.12704086]\n",
      " ...\n",
      " [ 0.0728137  -0.11008031]\n",
      " [-0.24162114 -0.28158036]\n",
      " [-0.04321076 -0.19942317]]\n"
     ]
    }
   ],
   "source": [
    "# Create a regular PCA model \n",
    "pca = PCA(n_components=2)\n",
    "\n",
    "# Fit and transform the data to the model\n",
    "reduced_data_pca = pca.fit_transform(df_scaled)\n",
    "\n",
    "# Inspect the shape\n",
    "print(reduced_data_pca.shape)\n",
    "\n",
    "# print out data\n",
    "print(reduced_data_pca)"
   ]
  },
  {
   "cell_type": "code",
   "execution_count": 175,
   "metadata": {},
   "outputs": [
    {
     "data": {
      "image/png": "[encoded data removed]",
      "text/plain": [
       "<Figure size 432x288 with 1 Axes>"
      ]
     },
     "metadata": {
      "needs_background": "light"
     },
     "output_type": "display_data"
    }
   ],
   "source": [
    "# Building Scatterplot to visualise data\n",
    "plt.scatter(reduced_data_rpca[:, 0], reduced_data_rpca[:, 1])\n",
    "plt.xlabel('First Principal Component')\n",
    "plt.ylabel('Second Principal Component')\n",
    "plt.title(\"PCA Scatter Plot\")\n",
    "plt.show()"
   ]
  },
  {
   "cell_type": "markdown",
   "metadata": {},
   "source": [
    "There is no clear separation."
   ]
  },
  {
   "cell_type": "markdown",
   "metadata": {},
   "source": [
    "## Check the number of clusters to make with KMeans"
   ]
  },
  {
   "cell_type": "markdown",
   "metadata": {},
   "source": [
    "### Elbow method\n",
    "Based on the sum of squared distance (SSE)to check the best number of clusters "
   ]
  },
  {
   "cell_type": "code",
   "execution_count": 202,
   "metadata": {},
   "outputs": [
    {
     "data": {
      "image/png": "[encoded data removed]",
      "text/plain": [
       "<Figure size 432x432 with 1 Axes>"
      ]
     },
     "metadata": {
      "needs_background": "light"
     },
     "output_type": "display_data"
    }
   ],
   "source": [
    "sse = []\n",
    "list_k = list(range(1,11))\n",
    "\n",
    "for k in list_k: \n",
    "    km = cluster.KMeans(init='k-means++', n_clusters=k, random_state=42)\n",
    "    km.fit(df_scaled)\n",
    "    sse.append(km.inertia_)\n",
    "    \n",
    "# Plot sse against k\n",
    "plt.figure(figsize=(6,6))\n",
    "plt.plot(list_k, sse, '-o')\n",
    "plt.xlabel(r'Number of clusters *k*')\n",
    "plt.ylabel('Sum of squared distance');\n",
    "    "
   ]
  },
  {
   "cell_type": "markdown",
   "metadata": {},
   "source": [
    "### Silhouette Coefficient\n",
    "Based on the:\n",
    "a: The mean distance between a sample and all other points in the same class.\n",
    "b: The mean distance between a sample and all other points in the next nearest cluster.\n",
    "\n",
    "s = (b - a) / max(a,b)\n",
    "\n",
    "The higher the Silhouette Coeffeicent score, the more defiend is the cluster"
   ]
  },
  {
   "cell_type": "code",
   "execution_count": 203,
   "metadata": {},
   "outputs": [
    {
     "data": {
      "image/png": "[encoded data removed]",
      "text/plain": [
       "<Figure size 432x432 with 1 Axes>"
      ]
     },
     "metadata": {
      "needs_background": "light"
     },
     "output_type": "display_data"
    }
   ],
   "source": [
    "# md = mean distance\n",
    "# minimum number of clusters is 2\n",
    "\n",
    "md = []\n",
    "list_k = list(range(2,11))\n",
    "\n",
    "for k in list_k: \n",
    "    km = cluster.KMeans(init='k-means++', n_clusters=k, random_state=42).fit(df_scaled)\n",
    "    labels = km.labels_\n",
    "    md.append(metrics.silhouette_score(df_scaled, labels, metric='euclidean'))\n",
    "    \n",
    "# Plot md against k\n",
    "plt.figure(figsize=(6,6))\n",
    "plt.plot(list_k, md, '-o')\n",
    "plt.xlabel(r'Number of clusters *k*')\n",
    "plt.ylabel('Silhouette Coefficient');\n",
    "    "
   ]
  },
  {
   "cell_type": "markdown",
   "metadata": {},
   "source": [
    "### Calinski-Harabasz Index \n",
    "The index is the ratio of the sum of between-clusters dispersion and of within-cluster dispersion for all clusters (where dispersion is defined as the sum of distances squared).\n",
    "\n",
    "also known as the Variance Ratio Criterion.\n",
    "\n",
    "higher score = model with better defined clusters"
   ]
  },
  {
   "cell_type": "code",
   "execution_count": 205,
   "metadata": {},
   "outputs": [
    {
     "data": {
      "image/png": "[encoded data removed]",
      "text/plain": [
       "<Figure size 432x432 with 1 Axes>"
      ]
     },
     "metadata": {
      "needs_background": "light"
     },
     "output_type": "display_data"
    }
   ],
   "source": [
    "ch = []\n",
    "list_k = list(range(2,11))\n",
    "\n",
    "for k in list_k: \n",
    "    km = cluster.KMeans(init='k-means++', n_clusters=k, random_state=42).fit(df_scaled)\n",
    "    labels = km.labels_\n",
    "    ch.append(metrics.calinski_harabasz_score(df_scaled, labels))\n",
    "    \n",
    "# Plot md against k\n",
    "plt.figure(figsize=(6,6))\n",
    "plt.plot(list_k, ch, '-o')\n",
    "plt.xlabel(r'Number of clusters *k*')\n",
    "plt.ylabel('CH Score');"
   ]
  },
  {
   "cell_type": "markdown",
   "metadata": {},
   "source": [
    "### Davies Bouldin Index \n",
    "This index signifies the average ‘similarity’ between clusters, where the similarity is a measure that compares the distance between clusters with the size of the clusters themselves.\n",
    "\n",
    "lower davies-Bouldin indec relates to a model with a better separation between clusters"
   ]
  },
  {
   "cell_type": "code",
   "execution_count": 207,
   "metadata": {},
   "outputs": [
    {
     "data": {
      "image/png": "[encoded data removed]",
      "text/plain": [
       "<Figure size 432x432 with 1 Axes>"
      ]
     },
     "metadata": {
      "needs_background": "light"
     },
     "output_type": "display_data"
    }
   ],
   "source": [
    "db = []\n",
    "list_k = list(range(2,11))\n",
    "\n",
    "for k in list_k: \n",
    "    km = cluster.KMeans(init='k-means++', n_clusters=k, random_state=42).fit(df_scaled)\n",
    "    labels = km.labels_\n",
    "    db.append(metrics.davies_bouldin_score(df_scaled, labels))\n",
    "    \n",
    "# Plot md against k\n",
    "plt.figure(figsize=(6,6))\n",
    "plt.plot(list_k, db, '-o')\n",
    "plt.xlabel(r'Number of clusters *k*')\n",
    "plt.ylabel('CH Score');"
   ]
  },
  {
   "cell_type": "code",
   "execution_count": null,
   "metadata": {},
   "outputs": [],
   "source": []
  }
 ],
 "metadata": {
  "kernelspec": {
   "display_name": "Python 3",
   "language": "python",
   "name": "python3"
  },
  "language_info": {
   "codemirror_mode": {
    "name": "ipython",
    "version": 3
   },
   "file_extension": ".py",
   "mimetype": "text/x-python",
   "name": "python",
   "nbconvert_exporter": "python",
   "pygments_lexer": "ipython3",
   "version": "3.8.3"
  }
 },
 "nbformat": 4,
 "nbformat_minor": 4
}
